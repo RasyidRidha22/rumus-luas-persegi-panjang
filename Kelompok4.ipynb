{
  "nbformat": 4,
  "nbformat_minor": 0,
  "metadata": {
    "colab": {
      "provenance": [],
      "authorship_tag": "ABX9TyPq6WN6NoUa/b0gNE5pA8qs",
      "include_colab_link": true
    },
    "kernelspec": {
      "name": "python3",
      "display_name": "Python 3"
    },
    "language_info": {
      "name": "python"
    }
  },
  "cells": [
    {
      "cell_type": "markdown",
      "metadata": {
        "id": "view-in-github",
        "colab_type": "text"
      },
      "source": [
        "<a href=\"https://colab.research.google.com/github/RasyidRidha22/rumus-luas-persegi-panjang/blob/main/Kelompok4.ipynb\" target=\"_parent\"><img src=\"https://colab.research.google.com/assets/colab-badge.svg\" alt=\"Open In Colab\"/></a>"
      ]
    },
    {
      "cell_type": "code",
      "execution_count": 3,
      "metadata": {
        "colab": {
          "base_uri": "https://localhost:8080/"
        },
        "id": "9hdoslq6eq8U",
        "outputId": "67bc30bf-f7da-4a23-84c7-e4b396c2abab"
      },
      "outputs": [
        {
          "output_type": "stream",
          "name": "stdout",
          "text": [
            "luas persegi panjang adalah 1000 cm\n"
          ]
        }
      ],
      "source": [
        "panjang = 50\n",
        "lebar = 20\n",
        "luas = panjang*lebar\n",
        "print(\"luas persegi panjang adalah\",luas,\"cm\")"
      ]
    }
  ]
}